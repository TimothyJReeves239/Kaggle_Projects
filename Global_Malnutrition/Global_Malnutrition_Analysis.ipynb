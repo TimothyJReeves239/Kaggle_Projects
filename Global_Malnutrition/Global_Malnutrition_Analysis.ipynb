{
 "cells": [
  {
   "cell_type": "code",
   "execution_count": 23,
   "metadata": {},
   "outputs": [],
   "source": [
    "import pandas as pd\n",
    "import seaborn as sns\n",
    "import numpy as np\n",
    "from matplotlib import pyplot as plt\n",
    "from scipy import stats\n",
    "import warnings\n",
    "warnings.simplefilter(action='ignore', category=FutureWarning)"
   ]
  },
  {
   "cell_type": "code",
   "execution_count": 2,
   "metadata": {},
   "outputs": [],
   "source": [
    "data = pd.read_csv(\"malnutrition-estimates.csv\")"
   ]
  },
  {
   "cell_type": "code",
   "execution_count": 24,
   "metadata": {},
   "outputs": [
    {
     "data": {
      "text/html": [
       "<div>\n",
       "<style scoped>\n",
       "    .dataframe tbody tr th:only-of-type {\n",
       "        vertical-align: middle;\n",
       "    }\n",
       "\n",
       "    .dataframe tbody tr th {\n",
       "        vertical-align: top;\n",
       "    }\n",
       "\n",
       "    .dataframe thead th {\n",
       "        text-align: right;\n",
       "    }\n",
       "</style>\n",
       "<table border=\"1\" class=\"dataframe\">\n",
       "  <thead>\n",
       "    <tr style=\"text-align: right;\">\n",
       "      <th></th>\n",
       "      <th>ISO code</th>\n",
       "      <th>Country</th>\n",
       "      <th>Survey Year</th>\n",
       "      <th>Year</th>\n",
       "      <th>Income Classification</th>\n",
       "      <th>LDC</th>\n",
       "      <th>LIFD</th>\n",
       "      <th>LLDC or SID2</th>\n",
       "      <th>Survey Sample (N)</th>\n",
       "      <th>Severe Wasting</th>\n",
       "      <th>Wasting</th>\n",
       "      <th>Overweight</th>\n",
       "      <th>Stunting</th>\n",
       "      <th>Underweight</th>\n",
       "      <th>Report Author</th>\n",
       "      <th>Source</th>\n",
       "      <th>Short Source</th>\n",
       "      <th>U5 Population ('000s)</th>\n",
       "    </tr>\n",
       "  </thead>\n",
       "  <tbody>\n",
       "    <tr>\n",
       "      <th>0</th>\n",
       "      <td>AFG</td>\n",
       "      <td>AFGHANISTAN</td>\n",
       "      <td>1997</td>\n",
       "      <td>1997</td>\n",
       "      <td>0</td>\n",
       "      <td>1.0</td>\n",
       "      <td>1.0</td>\n",
       "      <td>1.0</td>\n",
       "      <td>4,846</td>\n",
       "      <td>NaN</td>\n",
       "      <td>18.2</td>\n",
       "      <td>6.5</td>\n",
       "      <td>53.2</td>\n",
       "      <td>44.9</td>\n",
       "      <td>CIET International</td>\n",
       "      <td>Afghanistan 1997 multiple indicator baseline (...</td>\n",
       "      <td>MICS</td>\n",
       "      <td>3838.877</td>\n",
       "    </tr>\n",
       "    <tr>\n",
       "      <th>1</th>\n",
       "      <td>AFG</td>\n",
       "      <td>AFGHANISTAN</td>\n",
       "      <td>2004</td>\n",
       "      <td>2004</td>\n",
       "      <td>0</td>\n",
       "      <td>1.0</td>\n",
       "      <td>1.0</td>\n",
       "      <td>1.0</td>\n",
       "      <td>946</td>\n",
       "      <td>3.5</td>\n",
       "      <td>8.6</td>\n",
       "      <td>4.6</td>\n",
       "      <td>59.3</td>\n",
       "      <td>32.9</td>\n",
       "      <td>Ministry of Public Health (Afghanistan), UNICE...</td>\n",
       "      <td>Summary report of the national nutrition surve...</td>\n",
       "      <td>NNS</td>\n",
       "      <td>4789.353</td>\n",
       "    </tr>\n",
       "    <tr>\n",
       "      <th>2</th>\n",
       "      <td>AFG</td>\n",
       "      <td>AFGHANISTAN</td>\n",
       "      <td>2013</td>\n",
       "      <td>2013</td>\n",
       "      <td>0</td>\n",
       "      <td>1.0</td>\n",
       "      <td>1.0</td>\n",
       "      <td>1.0</td>\n",
       "      <td>44,26,469</td>\n",
       "      <td>4.0</td>\n",
       "      <td>9.5</td>\n",
       "      <td>5.3</td>\n",
       "      <td>40.4</td>\n",
       "      <td>24.6</td>\n",
       "      <td>Ministry of Public Health, UNICEF and the Aga ...</td>\n",
       "      <td>Afghanistan National Nutrition Survey 2013.</td>\n",
       "      <td>SMART</td>\n",
       "      <td>5444.573</td>\n",
       "    </tr>\n",
       "    <tr>\n",
       "      <th>3</th>\n",
       "      <td>AFG</td>\n",
       "      <td>AFGHANISTAN</td>\n",
       "      <td>2018</td>\n",
       "      <td>2018</td>\n",
       "      <td>0</td>\n",
       "      <td>1.0</td>\n",
       "      <td>1.0</td>\n",
       "      <td>1.0</td>\n",
       "      <td>NaN</td>\n",
       "      <td>1.6</td>\n",
       "      <td>5.1</td>\n",
       "      <td>4.1</td>\n",
       "      <td>38.2</td>\n",
       "      <td>19.1</td>\n",
       "      <td>KIT Royal Tropical Institute</td>\n",
       "      <td>Afghanistan Health Survey 2018</td>\n",
       "      <td>Other</td>\n",
       "      <td>5601.443</td>\n",
       "    </tr>\n",
       "    <tr>\n",
       "      <th>4</th>\n",
       "      <td>ALB</td>\n",
       "      <td>ALBANIA</td>\n",
       "      <td>1996-98</td>\n",
       "      <td>1997</td>\n",
       "      <td>2</td>\n",
       "      <td>0.0</td>\n",
       "      <td>0.0</td>\n",
       "      <td>0.0</td>\n",
       "      <td>7,642</td>\n",
       "      <td>NaN</td>\n",
       "      <td>8.1</td>\n",
       "      <td>9.5</td>\n",
       "      <td>20.4</td>\n",
       "      <td>7.1</td>\n",
       "      <td>Institute of Public Health, Food and Nutrition...</td>\n",
       "      <td>National study on nutrition in Albania. Instit...</td>\n",
       "      <td>Other</td>\n",
       "      <td>309.225</td>\n",
       "    </tr>\n",
       "  </tbody>\n",
       "</table>\n",
       "</div>"
      ],
      "text/plain": [
       "  ISO code      Country Survey Year  Year  Income Classification  LDC  LIFD  \\\n",
       "0      AFG  AFGHANISTAN        1997  1997                      0  1.0   1.0   \n",
       "1      AFG  AFGHANISTAN        2004  2004                      0  1.0   1.0   \n",
       "2      AFG  AFGHANISTAN        2013  2013                      0  1.0   1.0   \n",
       "3      AFG  AFGHANISTAN        2018  2018                      0  1.0   1.0   \n",
       "4      ALB      ALBANIA     1996-98  1997                      2  0.0   0.0   \n",
       "\n",
       "   LLDC or SID2 Survey Sample (N)  Severe Wasting  Wasting  Overweight  \\\n",
       "0           1.0             4,846             NaN     18.2         6.5   \n",
       "1           1.0               946             3.5      8.6         4.6   \n",
       "2           1.0         44,26,469             4.0      9.5         5.3   \n",
       "3           1.0               NaN             1.6      5.1         4.1   \n",
       "4           0.0             7,642             NaN      8.1         9.5   \n",
       "\n",
       "   Stunting  Underweight                                      Report Author  \\\n",
       "0      53.2         44.9                                 CIET International   \n",
       "1      59.3         32.9  Ministry of Public Health (Afghanistan), UNICE...   \n",
       "2      40.4         24.6  Ministry of Public Health, UNICEF and the Aga ...   \n",
       "3      38.2         19.1                       KIT Royal Tropical Institute   \n",
       "4      20.4          7.1  Institute of Public Health, Food and Nutrition...   \n",
       "\n",
       "                                              Source Short Source  \\\n",
       "0  Afghanistan 1997 multiple indicator baseline (...         MICS   \n",
       "1  Summary report of the national nutrition surve...          NNS   \n",
       "2        Afghanistan National Nutrition Survey 2013.        SMART   \n",
       "3                     Afghanistan Health Survey 2018        Other   \n",
       "4  National study on nutrition in Albania. Instit...        Other   \n",
       "\n",
       "   U5 Population ('000s)  \n",
       "0               3838.877  \n",
       "1               4789.353  \n",
       "2               5444.573  \n",
       "3               5601.443  \n",
       "4                309.225  "
      ]
     },
     "execution_count": 24,
     "metadata": {},
     "output_type": "execute_result"
    }
   ],
   "source": [
    "data.head()"
   ]
  },
  {
   "cell_type": "code",
   "execution_count": 4,
   "metadata": {},
   "outputs": [],
   "source": [
    "data = data.drop([\"Unnamed: 0\"], axis = 1)"
   ]
  },
  {
   "cell_type": "code",
   "execution_count": 5,
   "metadata": {},
   "outputs": [],
   "source": [
    "data = data.drop([\"Notes\"], axis = 1)"
   ]
  },
  {
   "cell_type": "code",
   "execution_count": 6,
   "metadata": {},
   "outputs": [
    {
     "data": {
      "text/html": [
       "<div>\n",
       "<style scoped>\n",
       "    .dataframe tbody tr th:only-of-type {\n",
       "        vertical-align: middle;\n",
       "    }\n",
       "\n",
       "    .dataframe tbody tr th {\n",
       "        vertical-align: top;\n",
       "    }\n",
       "\n",
       "    .dataframe thead th {\n",
       "        text-align: right;\n",
       "    }\n",
       "</style>\n",
       "<table border=\"1\" class=\"dataframe\">\n",
       "  <thead>\n",
       "    <tr style=\"text-align: right;\">\n",
       "      <th></th>\n",
       "      <th>Year</th>\n",
       "      <th>Income Classification</th>\n",
       "      <th>LDC</th>\n",
       "      <th>LIFD</th>\n",
       "      <th>LLDC or SID2</th>\n",
       "      <th>Severe Wasting</th>\n",
       "      <th>Wasting</th>\n",
       "      <th>Overweight</th>\n",
       "      <th>Stunting</th>\n",
       "      <th>Underweight</th>\n",
       "      <th>U5 Population ('000s)</th>\n",
       "    </tr>\n",
       "  </thead>\n",
       "  <tbody>\n",
       "    <tr>\n",
       "      <th>count</th>\n",
       "      <td>924.000000</td>\n",
       "      <td>924.00000</td>\n",
       "      <td>924.000000</td>\n",
       "      <td>924.000000</td>\n",
       "      <td>924.000000</td>\n",
       "      <td>696.000000</td>\n",
       "      <td>877.000000</td>\n",
       "      <td>788.000000</td>\n",
       "      <td>887.000000</td>\n",
       "      <td>902.000000</td>\n",
       "      <td>924.000000</td>\n",
       "    </tr>\n",
       "    <tr>\n",
       "      <th>mean</th>\n",
       "      <td>2003.730519</td>\n",
       "      <td>1.24026</td>\n",
       "      <td>0.349567</td>\n",
       "      <td>0.424242</td>\n",
       "      <td>0.455628</td>\n",
       "      <td>2.191523</td>\n",
       "      <td>6.955644</td>\n",
       "      <td>6.434772</td>\n",
       "      <td>29.063134</td>\n",
       "      <td>15.841242</td>\n",
       "      <td>6182.704516</td>\n",
       "    </tr>\n",
       "    <tr>\n",
       "      <th>std</th>\n",
       "      <td>8.792535</td>\n",
       "      <td>0.92202</td>\n",
       "      <td>0.477091</td>\n",
       "      <td>0.494495</td>\n",
       "      <td>0.686648</td>\n",
       "      <td>1.912586</td>\n",
       "      <td>5.039402</td>\n",
       "      <td>4.638849</td>\n",
       "      <td>15.834657</td>\n",
       "      <td>12.509643</td>\n",
       "      <td>16795.938144</td>\n",
       "    </tr>\n",
       "    <tr>\n",
       "      <th>min</th>\n",
       "      <td>1983.000000</td>\n",
       "      <td>0.00000</td>\n",
       "      <td>0.000000</td>\n",
       "      <td>0.000000</td>\n",
       "      <td>0.000000</td>\n",
       "      <td>0.000000</td>\n",
       "      <td>0.000000</td>\n",
       "      <td>0.000000</td>\n",
       "      <td>0.000000</td>\n",
       "      <td>0.000000</td>\n",
       "      <td>1.000000</td>\n",
       "    </tr>\n",
       "    <tr>\n",
       "      <th>25%</th>\n",
       "      <td>1996.000000</td>\n",
       "      <td>1.00000</td>\n",
       "      <td>0.000000</td>\n",
       "      <td>0.000000</td>\n",
       "      <td>0.000000</td>\n",
       "      <td>0.800000</td>\n",
       "      <td>2.900000</td>\n",
       "      <td>2.900000</td>\n",
       "      <td>16.650000</td>\n",
       "      <td>4.925000</td>\n",
       "      <td>559.669000</td>\n",
       "    </tr>\n",
       "    <tr>\n",
       "      <th>50%</th>\n",
       "      <td>2004.500000</td>\n",
       "      <td>1.00000</td>\n",
       "      <td>0.000000</td>\n",
       "      <td>0.000000</td>\n",
       "      <td>0.000000</td>\n",
       "      <td>1.600000</td>\n",
       "      <td>5.900000</td>\n",
       "      <td>5.500000</td>\n",
       "      <td>29.200000</td>\n",
       "      <td>13.400000</td>\n",
       "      <td>1795.523000</td>\n",
       "    </tr>\n",
       "    <tr>\n",
       "      <th>75%</th>\n",
       "      <td>2011.000000</td>\n",
       "      <td>2.00000</td>\n",
       "      <td>1.000000</td>\n",
       "      <td>1.000000</td>\n",
       "      <td>1.000000</td>\n",
       "      <td>2.900000</td>\n",
       "      <td>9.700000</td>\n",
       "      <td>8.700000</td>\n",
       "      <td>40.200000</td>\n",
       "      <td>23.100000</td>\n",
       "      <td>4194.214000</td>\n",
       "    </tr>\n",
       "    <tr>\n",
       "      <th>max</th>\n",
       "      <td>2019.000000</td>\n",
       "      <td>3.00000</td>\n",
       "      <td>1.000000</td>\n",
       "      <td>1.000000</td>\n",
       "      <td>2.000000</td>\n",
       "      <td>12.900000</td>\n",
       "      <td>25.300000</td>\n",
       "      <td>30.100000</td>\n",
       "      <td>73.600000</td>\n",
       "      <td>66.800000</td>\n",
       "      <td>132966.782000</td>\n",
       "    </tr>\n",
       "  </tbody>\n",
       "</table>\n",
       "</div>"
      ],
      "text/plain": [
       "              Year  Income Classification         LDC        LIFD  \\\n",
       "count   924.000000              924.00000  924.000000  924.000000   \n",
       "mean   2003.730519                1.24026    0.349567    0.424242   \n",
       "std       8.792535                0.92202    0.477091    0.494495   \n",
       "min    1983.000000                0.00000    0.000000    0.000000   \n",
       "25%    1996.000000                1.00000    0.000000    0.000000   \n",
       "50%    2004.500000                1.00000    0.000000    0.000000   \n",
       "75%    2011.000000                2.00000    1.000000    1.000000   \n",
       "max    2019.000000                3.00000    1.000000    1.000000   \n",
       "\n",
       "       LLDC or SID2  Severe Wasting     Wasting  Overweight    Stunting  \\\n",
       "count    924.000000      696.000000  877.000000  788.000000  887.000000   \n",
       "mean       0.455628        2.191523    6.955644    6.434772   29.063134   \n",
       "std        0.686648        1.912586    5.039402    4.638849   15.834657   \n",
       "min        0.000000        0.000000    0.000000    0.000000    0.000000   \n",
       "25%        0.000000        0.800000    2.900000    2.900000   16.650000   \n",
       "50%        0.000000        1.600000    5.900000    5.500000   29.200000   \n",
       "75%        1.000000        2.900000    9.700000    8.700000   40.200000   \n",
       "max        2.000000       12.900000   25.300000   30.100000   73.600000   \n",
       "\n",
       "       Underweight  U5 Population ('000s)  \n",
       "count   902.000000             924.000000  \n",
       "mean     15.841242            6182.704516  \n",
       "std      12.509643           16795.938144  \n",
       "min       0.000000               1.000000  \n",
       "25%       4.925000             559.669000  \n",
       "50%      13.400000            1795.523000  \n",
       "75%      23.100000            4194.214000  \n",
       "max      66.800000          132966.782000  "
      ]
     },
     "execution_count": 6,
     "metadata": {},
     "output_type": "execute_result"
    }
   ],
   "source": [
    "data.describe()"
   ]
  },
  {
   "cell_type": "code",
   "execution_count": 7,
   "metadata": {},
   "outputs": [
    {
     "data": {
      "text/plain": [
       "ISO code                   0\n",
       "Country                    0\n",
       "Survey Year                0\n",
       "Year                       0\n",
       "Income Classification      0\n",
       "LDC                        0\n",
       "LIFD                       0\n",
       "LLDC or SID2               0\n",
       "Survey Sample (N)         63\n",
       "Severe Wasting           228\n",
       "Wasting                   47\n",
       "Overweight               136\n",
       "Stunting                  37\n",
       "Underweight               22\n",
       "Report Author              0\n",
       "Source                     0\n",
       "Short Source               0\n",
       "U5 Population ('000s)      0\n",
       "dtype: int64"
      ]
     },
     "execution_count": 7,
     "metadata": {},
     "output_type": "execute_result"
    }
   ],
   "source": [
    "data.isnull().sum()"
   ]
  },
  {
   "cell_type": "code",
   "execution_count": 8,
   "metadata": {},
   "outputs": [],
   "source": [
    "data1 = data[ data[\"Severe Wasting\"].isnull()]"
   ]
  },
  {
   "cell_type": "code",
   "execution_count": 9,
   "metadata": {},
   "outputs": [
    {
     "data": {
      "text/html": [
       "<div>\n",
       "<style scoped>\n",
       "    .dataframe tbody tr th:only-of-type {\n",
       "        vertical-align: middle;\n",
       "    }\n",
       "\n",
       "    .dataframe tbody tr th {\n",
       "        vertical-align: top;\n",
       "    }\n",
       "\n",
       "    .dataframe thead th {\n",
       "        text-align: right;\n",
       "    }\n",
       "</style>\n",
       "<table border=\"1\" class=\"dataframe\">\n",
       "  <thead>\n",
       "    <tr style=\"text-align: right;\">\n",
       "      <th></th>\n",
       "      <th>Year</th>\n",
       "      <th>Income Classification</th>\n",
       "      <th>LDC</th>\n",
       "      <th>LIFD</th>\n",
       "      <th>LLDC or SID2</th>\n",
       "      <th>Severe Wasting</th>\n",
       "      <th>Wasting</th>\n",
       "      <th>Overweight</th>\n",
       "      <th>Stunting</th>\n",
       "      <th>Underweight</th>\n",
       "      <th>U5 Population ('000s)</th>\n",
       "    </tr>\n",
       "  </thead>\n",
       "  <tbody>\n",
       "    <tr>\n",
       "      <th>count</th>\n",
       "      <td>228.000000</td>\n",
       "      <td>228.000000</td>\n",
       "      <td>228.000000</td>\n",
       "      <td>228.000000</td>\n",
       "      <td>228.000000</td>\n",
       "      <td>0.0</td>\n",
       "      <td>181.000000</td>\n",
       "      <td>105.000000</td>\n",
       "      <td>192.000000</td>\n",
       "      <td>206.000000</td>\n",
       "      <td>228.000000</td>\n",
       "    </tr>\n",
       "    <tr>\n",
       "      <th>mean</th>\n",
       "      <td>1997.267544</td>\n",
       "      <td>1.543860</td>\n",
       "      <td>0.214912</td>\n",
       "      <td>0.258772</td>\n",
       "      <td>0.337719</td>\n",
       "      <td>NaN</td>\n",
       "      <td>7.289503</td>\n",
       "      <td>7.260952</td>\n",
       "      <td>27.562500</td>\n",
       "      <td>15.851456</td>\n",
       "      <td>6290.170658</td>\n",
       "    </tr>\n",
       "    <tr>\n",
       "      <th>std</th>\n",
       "      <td>8.118799</td>\n",
       "      <td>0.925796</td>\n",
       "      <td>0.411665</td>\n",
       "      <td>0.438924</td>\n",
       "      <td>0.653677</td>\n",
       "      <td>NaN</td>\n",
       "      <td>5.703259</td>\n",
       "      <td>3.933840</td>\n",
       "      <td>18.209863</td>\n",
       "      <td>13.874615</td>\n",
       "      <td>17359.501678</td>\n",
       "    </tr>\n",
       "    <tr>\n",
       "      <th>min</th>\n",
       "      <td>1985.000000</td>\n",
       "      <td>0.000000</td>\n",
       "      <td>0.000000</td>\n",
       "      <td>0.000000</td>\n",
       "      <td>0.000000</td>\n",
       "      <td>NaN</td>\n",
       "      <td>0.000000</td>\n",
       "      <td>0.200000</td>\n",
       "      <td>0.000000</td>\n",
       "      <td>0.000000</td>\n",
       "      <td>8.397000</td>\n",
       "    </tr>\n",
       "    <tr>\n",
       "      <th>25%</th>\n",
       "      <td>1992.000000</td>\n",
       "      <td>1.000000</td>\n",
       "      <td>0.000000</td>\n",
       "      <td>0.000000</td>\n",
       "      <td>0.000000</td>\n",
       "      <td>NaN</td>\n",
       "      <td>3.100000</td>\n",
       "      <td>4.900000</td>\n",
       "      <td>13.825000</td>\n",
       "      <td>4.250000</td>\n",
       "      <td>714.713000</td>\n",
       "    </tr>\n",
       "    <tr>\n",
       "      <th>50%</th>\n",
       "      <td>1995.000000</td>\n",
       "      <td>2.000000</td>\n",
       "      <td>0.000000</td>\n",
       "      <td>0.000000</td>\n",
       "      <td>0.000000</td>\n",
       "      <td>NaN</td>\n",
       "      <td>5.900000</td>\n",
       "      <td>6.400000</td>\n",
       "      <td>25.050000</td>\n",
       "      <td>11.950000</td>\n",
       "      <td>1873.587000</td>\n",
       "    </tr>\n",
       "    <tr>\n",
       "      <th>75%</th>\n",
       "      <td>2002.000000</td>\n",
       "      <td>2.000000</td>\n",
       "      <td>0.000000</td>\n",
       "      <td>1.000000</td>\n",
       "      <td>0.000000</td>\n",
       "      <td>NaN</td>\n",
       "      <td>9.800000</td>\n",
       "      <td>9.500000</td>\n",
       "      <td>41.025000</td>\n",
       "      <td>23.175000</td>\n",
       "      <td>4197.185500</td>\n",
       "    </tr>\n",
       "    <tr>\n",
       "      <th>max</th>\n",
       "      <td>2019.000000</td>\n",
       "      <td>3.000000</td>\n",
       "      <td>1.000000</td>\n",
       "      <td>1.000000</td>\n",
       "      <td>2.000000</td>\n",
       "      <td>NaN</td>\n",
       "      <td>25.300000</td>\n",
       "      <td>22.000000</td>\n",
       "      <td>70.900000</td>\n",
       "      <td>66.800000</td>\n",
       "      <td>126145.646000</td>\n",
       "    </tr>\n",
       "  </tbody>\n",
       "</table>\n",
       "</div>"
      ],
      "text/plain": [
       "              Year  Income Classification         LDC        LIFD  \\\n",
       "count   228.000000             228.000000  228.000000  228.000000   \n",
       "mean   1997.267544               1.543860    0.214912    0.258772   \n",
       "std       8.118799               0.925796    0.411665    0.438924   \n",
       "min    1985.000000               0.000000    0.000000    0.000000   \n",
       "25%    1992.000000               1.000000    0.000000    0.000000   \n",
       "50%    1995.000000               2.000000    0.000000    0.000000   \n",
       "75%    2002.000000               2.000000    0.000000    1.000000   \n",
       "max    2019.000000               3.000000    1.000000    1.000000   \n",
       "\n",
       "       LLDC or SID2  Severe Wasting     Wasting  Overweight    Stunting  \\\n",
       "count    228.000000             0.0  181.000000  105.000000  192.000000   \n",
       "mean       0.337719             NaN    7.289503    7.260952   27.562500   \n",
       "std        0.653677             NaN    5.703259    3.933840   18.209863   \n",
       "min        0.000000             NaN    0.000000    0.200000    0.000000   \n",
       "25%        0.000000             NaN    3.100000    4.900000   13.825000   \n",
       "50%        0.000000             NaN    5.900000    6.400000   25.050000   \n",
       "75%        0.000000             NaN    9.800000    9.500000   41.025000   \n",
       "max        2.000000             NaN   25.300000   22.000000   70.900000   \n",
       "\n",
       "       Underweight  U5 Population ('000s)  \n",
       "count   206.000000             228.000000  \n",
       "mean     15.851456            6290.170658  \n",
       "std      13.874615           17359.501678  \n",
       "min       0.000000               8.397000  \n",
       "25%       4.250000             714.713000  \n",
       "50%      11.950000            1873.587000  \n",
       "75%      23.175000            4197.185500  \n",
       "max      66.800000          126145.646000  "
      ]
     },
     "execution_count": 9,
     "metadata": {},
     "output_type": "execute_result"
    }
   ],
   "source": [
    "data1.describe()"
   ]
  },
  {
   "cell_type": "code",
   "execution_count": 10,
   "metadata": {},
   "outputs": [
    {
     "data": {
      "text/plain": [
       "ISO code                   0\n",
       "Country                    0\n",
       "Survey Year                0\n",
       "Year                       0\n",
       "Income Classification      0\n",
       "LDC                        0\n",
       "LIFD                       0\n",
       "LLDC or SID2               0\n",
       "Survey Sample (N)         34\n",
       "Severe Wasting           228\n",
       "Wasting                   47\n",
       "Overweight               123\n",
       "Stunting                  36\n",
       "Underweight               22\n",
       "Report Author              0\n",
       "Source                     0\n",
       "Short Source               0\n",
       "U5 Population ('000s)      0\n",
       "dtype: int64"
      ]
     },
     "execution_count": 10,
     "metadata": {},
     "output_type": "execute_result"
    }
   ],
   "source": [
    "data1.isnull().sum()"
   ]
  },
  {
   "cell_type": "code",
   "execution_count": 27,
   "metadata": {},
   "outputs": [],
   "source": [
    "datarev = data[data['Severe Wasting'].notna()]"
   ]
  },
  {
   "cell_type": "code",
   "execution_count": 28,
   "metadata": {},
   "outputs": [
    {
     "data": {
      "text/html": [
       "<div>\n",
       "<style scoped>\n",
       "    .dataframe tbody tr th:only-of-type {\n",
       "        vertical-align: middle;\n",
       "    }\n",
       "\n",
       "    .dataframe tbody tr th {\n",
       "        vertical-align: top;\n",
       "    }\n",
       "\n",
       "    .dataframe thead th {\n",
       "        text-align: right;\n",
       "    }\n",
       "</style>\n",
       "<table border=\"1\" class=\"dataframe\">\n",
       "  <thead>\n",
       "    <tr style=\"text-align: right;\">\n",
       "      <th></th>\n",
       "      <th>Year</th>\n",
       "      <th>Income Classification</th>\n",
       "      <th>LDC</th>\n",
       "      <th>LIFD</th>\n",
       "      <th>LLDC or SID2</th>\n",
       "      <th>Severe Wasting</th>\n",
       "      <th>Wasting</th>\n",
       "      <th>Overweight</th>\n",
       "      <th>Stunting</th>\n",
       "      <th>Underweight</th>\n",
       "      <th>U5 Population ('000s)</th>\n",
       "    </tr>\n",
       "  </thead>\n",
       "  <tbody>\n",
       "    <tr>\n",
       "      <th>count</th>\n",
       "      <td>696.000000</td>\n",
       "      <td>696.000000</td>\n",
       "      <td>696.000000</td>\n",
       "      <td>696.000000</td>\n",
       "      <td>696.000000</td>\n",
       "      <td>696.000000</td>\n",
       "      <td>696.000000</td>\n",
       "      <td>683.00000</td>\n",
       "      <td>695.000000</td>\n",
       "      <td>696.000000</td>\n",
       "      <td>696.000000</td>\n",
       "    </tr>\n",
       "    <tr>\n",
       "      <th>mean</th>\n",
       "      <td>2005.847701</td>\n",
       "      <td>1.140805</td>\n",
       "      <td>0.393678</td>\n",
       "      <td>0.478448</td>\n",
       "      <td>0.494253</td>\n",
       "      <td>2.191523</td>\n",
       "      <td>6.868822</td>\n",
       "      <td>6.30776</td>\n",
       "      <td>29.477698</td>\n",
       "      <td>15.838218</td>\n",
       "      <td>6147.500091</td>\n",
       "    </tr>\n",
       "    <tr>\n",
       "      <th>std</th>\n",
       "      <td>7.934068</td>\n",
       "      <td>0.899401</td>\n",
       "      <td>0.488916</td>\n",
       "      <td>0.499895</td>\n",
       "      <td>0.693212</td>\n",
       "      <td>1.912586</td>\n",
       "      <td>4.852681</td>\n",
       "      <td>4.72767</td>\n",
       "      <td>15.101252</td>\n",
       "      <td>12.086916</td>\n",
       "      <td>16619.789633</td>\n",
       "    </tr>\n",
       "    <tr>\n",
       "      <th>min</th>\n",
       "      <td>1983.000000</td>\n",
       "      <td>0.000000</td>\n",
       "      <td>0.000000</td>\n",
       "      <td>0.000000</td>\n",
       "      <td>0.000000</td>\n",
       "      <td>0.000000</td>\n",
       "      <td>0.000000</td>\n",
       "      <td>0.00000</td>\n",
       "      <td>1.300000</td>\n",
       "      <td>0.200000</td>\n",
       "      <td>1.000000</td>\n",
       "    </tr>\n",
       "    <tr>\n",
       "      <th>25%</th>\n",
       "      <td>2000.000000</td>\n",
       "      <td>0.000000</td>\n",
       "      <td>0.000000</td>\n",
       "      <td>0.000000</td>\n",
       "      <td>0.000000</td>\n",
       "      <td>0.800000</td>\n",
       "      <td>2.900000</td>\n",
       "      <td>2.80000</td>\n",
       "      <td>17.300000</td>\n",
       "      <td>5.300000</td>\n",
       "      <td>523.553250</td>\n",
       "    </tr>\n",
       "    <tr>\n",
       "      <th>50%</th>\n",
       "      <td>2007.000000</td>\n",
       "      <td>1.000000</td>\n",
       "      <td>0.000000</td>\n",
       "      <td>0.000000</td>\n",
       "      <td>0.000000</td>\n",
       "      <td>1.600000</td>\n",
       "      <td>5.900000</td>\n",
       "      <td>5.30000</td>\n",
       "      <td>30.000000</td>\n",
       "      <td>13.750000</td>\n",
       "      <td>1793.550500</td>\n",
       "    </tr>\n",
       "    <tr>\n",
       "      <th>75%</th>\n",
       "      <td>2012.000000</td>\n",
       "      <td>2.000000</td>\n",
       "      <td>1.000000</td>\n",
       "      <td>1.000000</td>\n",
       "      <td>1.000000</td>\n",
       "      <td>2.900000</td>\n",
       "      <td>9.625000</td>\n",
       "      <td>8.50000</td>\n",
       "      <td>39.950000</td>\n",
       "      <td>22.800000</td>\n",
       "      <td>4194.214000</td>\n",
       "    </tr>\n",
       "    <tr>\n",
       "      <th>max</th>\n",
       "      <td>2019.000000</td>\n",
       "      <td>3.000000</td>\n",
       "      <td>1.000000</td>\n",
       "      <td>1.000000</td>\n",
       "      <td>2.000000</td>\n",
       "      <td>12.900000</td>\n",
       "      <td>24.600000</td>\n",
       "      <td>30.10000</td>\n",
       "      <td>73.600000</td>\n",
       "      <td>61.200000</td>\n",
       "      <td>132966.782000</td>\n",
       "    </tr>\n",
       "  </tbody>\n",
       "</table>\n",
       "</div>"
      ],
      "text/plain": [
       "              Year  Income Classification         LDC        LIFD  \\\n",
       "count   696.000000             696.000000  696.000000  696.000000   \n",
       "mean   2005.847701               1.140805    0.393678    0.478448   \n",
       "std       7.934068               0.899401    0.488916    0.499895   \n",
       "min    1983.000000               0.000000    0.000000    0.000000   \n",
       "25%    2000.000000               0.000000    0.000000    0.000000   \n",
       "50%    2007.000000               1.000000    0.000000    0.000000   \n",
       "75%    2012.000000               2.000000    1.000000    1.000000   \n",
       "max    2019.000000               3.000000    1.000000    1.000000   \n",
       "\n",
       "       LLDC or SID2  Severe Wasting     Wasting  Overweight    Stunting  \\\n",
       "count    696.000000      696.000000  696.000000   683.00000  695.000000   \n",
       "mean       0.494253        2.191523    6.868822     6.30776   29.477698   \n",
       "std        0.693212        1.912586    4.852681     4.72767   15.101252   \n",
       "min        0.000000        0.000000    0.000000     0.00000    1.300000   \n",
       "25%        0.000000        0.800000    2.900000     2.80000   17.300000   \n",
       "50%        0.000000        1.600000    5.900000     5.30000   30.000000   \n",
       "75%        1.000000        2.900000    9.625000     8.50000   39.950000   \n",
       "max        2.000000       12.900000   24.600000    30.10000   73.600000   \n",
       "\n",
       "       Underweight  U5 Population ('000s)  \n",
       "count   696.000000             696.000000  \n",
       "mean     15.838218            6147.500091  \n",
       "std      12.086916           16619.789633  \n",
       "min       0.200000               1.000000  \n",
       "25%       5.300000             523.553250  \n",
       "50%      13.750000            1793.550500  \n",
       "75%      22.800000            4194.214000  \n",
       "max      61.200000          132966.782000  "
      ]
     },
     "execution_count": 28,
     "metadata": {},
     "output_type": "execute_result"
    }
   ],
   "source": [
    "datarev.describe()"
   ]
  },
  {
   "cell_type": "code",
   "execution_count": 29,
   "metadata": {},
   "outputs": [
    {
     "data": {
      "text/plain": [
       "ISO code                  0\n",
       "Country                   0\n",
       "Survey Year               0\n",
       "Year                      0\n",
       "Income Classification     0\n",
       "LDC                       0\n",
       "LIFD                      0\n",
       "LLDC or SID2              0\n",
       "Survey Sample (N)        29\n",
       "Severe Wasting            0\n",
       "Wasting                   0\n",
       "Overweight               13\n",
       "Stunting                  1\n",
       "Underweight               0\n",
       "Report Author             0\n",
       "Source                    0\n",
       "Short Source              0\n",
       "U5 Population ('000s)     0\n",
       "dtype: int64"
      ]
     },
     "execution_count": 29,
     "metadata": {},
     "output_type": "execute_result"
    }
   ],
   "source": [
    "datarev.isna().sum()"
   ]
  },
  {
   "cell_type": "code",
   "execution_count": 30,
   "metadata": {},
   "outputs": [],
   "source": [
    "datarev = datarev[datarev[\"Survey Sample (N)\"].notna()]"
   ]
  },
  {
   "cell_type": "code",
   "execution_count": 31,
   "metadata": {},
   "outputs": [],
   "source": [
    "df = datarev[datarev[\"Overweight\"].notna()]"
   ]
  },
  {
   "cell_type": "code",
   "execution_count": 32,
   "metadata": {},
   "outputs": [
    {
     "data": {
      "image/png": "[encoded data removed]",
      "text/plain": [
       "<Figure size 432x288 with 1 Axes>"
      ]
     },
     "metadata": {
      "needs_background": "light"
     },
     "output_type": "display_data"
    },
    {
     "name": "stdout",
     "output_type": "stream",
     "text": [
      "r-squard value: 0.15107411248904848\n"
     ]
    },
    {
     "data": {
      "image/png": "[encoded data removed]",
      "text/plain": [
       "<Figure size 432x288 with 1 Axes>"
      ]
     },
     "metadata": {
      "needs_background": "light"
     },
     "output_type": "display_data"
    },
    {
     "name": "stdout",
     "output_type": "stream",
     "text": [
      "r-squard value: 0.18685417957509737\n"
     ]
    },
    {
     "data": {
      "image/png": "[encoded data removed]",
      "text/plain": [
       "<Figure size 432x288 with 1 Axes>"
      ]
     },
     "metadata": {
      "needs_background": "light"
     },
     "output_type": "display_data"
    },
    {
     "name": "stdout",
     "output_type": "stream",
     "text": [
      "r-squard value: 0.3075553761390828\n"
     ]
    },
    {
     "data": {
      "image/png": "[encoded data removed]",
      "text/plain": [
       "<Figure size 432x288 with 1 Axes>"
      ]
     },
     "metadata": {
      "needs_background": "light"
     },
     "output_type": "display_data"
    },
    {
     "name": "stdout",
     "output_type": "stream",
     "text": [
      "r-squard value: 0.10263396955840484\n"
     ]
    },
    {
     "data": {
      "image/png": "[encoded data removed]",
      "text/plain": [
       "<Figure size 432x288 with 1 Axes>"
      ]
     },
     "metadata": {
      "needs_background": "light"
     },
     "output_type": "display_data"
    },
    {
     "name": "stdout",
     "output_type": "stream",
     "text": [
      "r-squard value: 0.42036930469251954\n"
     ]
    }
   ],
   "source": [
    "dfreg = df[[\"Severe Wasting\", \"Wasting\", \"Underweight\", \"Overweight\", \"Stunting\"]]\n",
    "for feature in dfreg:\n",
    "    sns.regplot(x = df[\"Income Classification\"], y = df[feature], color = \"royalblue\", fit_reg = True)\n",
    "    plt.title(f\"{feature} v. Income Classification\")\n",
    "    plt.show()\n",
    "    print(f\"r-squard value: {stats.pearsonr(df['Income Classification'], dfreg[feature])[0] ** 2}\")"
   ]
  },
  {
   "cell_type": "code",
   "execution_count": 33,
   "metadata": {},
   "outputs": [
    {
     "data": {
      "image/png": "[encoded data removed]",
      "text/plain": [
       "<Figure size 576x576 with 2 Axes>"
      ]
     },
     "metadata": {
      "needs_background": "light"
     },
     "output_type": "display_data"
    }
   ],
   "source": [
    "dfcorr = df[[\"Income Classification\", \"Severe Wasting\", \"Wasting\", \"Underweight\", \"Overweight\", \"Stunting\"]]\n",
    "corr = dfcorr.corr()\n",
    "fig, ax = plt.subplots(figsize=(8, 8))\n",
    "colormap = sns.diverging_palette(220, 10, as_cmap=True)\n",
    "dropSelf = np.zeros_like(corr)\n",
    "dropSelf[np.triu_indices_from(dropSelf)] = True\n",
    "plt.ylim(0 ,7)\n",
    "sns.heatmap(corr, linewidths=.2, annot=True, fmt=\".2f\", mask=dropSelf, cmap = colormap)\n",
    "plt.show()"
   ]
  },
  {
   "cell_type": "code",
   "execution_count": 38,
   "metadata": {},
   "outputs": [],
   "source": [
    "from sklearn.model_selection import train_test_split\n",
    "\n",
    "X = dfreg\n",
    "y = df['Income Classification']\n",
    "X_train, X_test, y_train, y_test = train_test_split(X,y,test_size = 0.20, shuffle=False)"
   ]
  },
  {
   "cell_type": "code",
   "execution_count": 56,
   "metadata": {},
   "outputs": [],
   "source": [
    "X_valid, X_train = X_train[:100], X_train[100:]\n",
    "y_valid, y_train = y_train[:100], y_train[100:]"
   ]
  },
  {
   "cell_type": "code",
   "execution_count": 45,
   "metadata": {},
   "outputs": [
    {
     "name": "stderr",
     "output_type": "stream",
     "text": [
      "Using TensorFlow backend.\n"
     ]
    }
   ],
   "source": [
    "import tensorflow as tf\n",
    "from tensorflow import keras"
   ]
  },
  {
   "cell_type": "code",
   "execution_count": 68,
   "metadata": {},
   "outputs": [],
   "source": [
    "#Creating Model through Keras (Model object & params)\n",
    "model = keras.models.Sequential()\n",
    "model.add(keras.layers.Dense(10, input_dim = 5, activation=\"relu\", name = \"Input\"))\n",
    "model.add(keras.layers.Dense(4, activation=\"softmax\", name = \"3-softmax\"))"
   ]
  },
  {
   "cell_type": "code",
   "execution_count": 50,
   "metadata": {},
   "outputs": [
    {
     "name": "stdout",
     "output_type": "stream",
     "text": [
      "Model: \"sequential_1\"\n",
      "_________________________________________________________________\n",
      "Layer (type)                 Output Shape              Param #   \n",
      "=================================================================\n",
      "Input (Dense)                (None, 12)                84        \n",
      "_________________________________________________________________\n",
      "3-softmax (Dense)            (None, 3)                 39        \n",
      "=================================================================\n",
      "Total params: 123\n",
      "Trainable params: 123\n",
      "Non-trainable params: 0\n",
      "_________________________________________________________________\n"
     ]
    }
   ],
   "source": [
    "model.summary()"
   ]
  },
  {
   "cell_type": "code",
   "execution_count": 51,
   "metadata": {},
   "outputs": [
    {
     "data": {
      "image/png": "[encoded data removed]",
      "text/plain": [
       "<IPython.core.display.Image object>"
      ]
     },
     "execution_count": 51,
     "metadata": {},
     "output_type": "execute_result"
    }
   ],
   "source": [
    "tf.keras.utils.plot_model(model)"
   ]
  },
  {
   "cell_type": "code",
   "execution_count": 69,
   "metadata": {},
   "outputs": [],
   "source": [
    "model.compile(loss = \"sparse_categorical_crossentropy\",\n",
    "             optimizer = \"sgd\",\n",
    "             metrics = [\"accuracy\"])"
   ]
  },
  {
   "cell_type": "code",
   "execution_count": 84,
   "metadata": {},
   "outputs": [
    {
     "name": "stderr",
     "output_type": "stream",
     "text": [
      "W0530 00:29:10.297200 4670432704 training.py:504] Falling back from v2 loop because of error: Failed to find data adapter that can handle input: <class 'pandas.core.frame.DataFrame'>, <class 'NoneType'>\n"
     ]
    },
    {
     "name": "stdout",
     "output_type": "stream",
     "text": [
      "Train on 426 samples, validate on 100 samples\n",
      "Epoch 1/30\n",
      "426/426 [==============================] - 0s 232us/sample - loss: 0.7379 - accuracy: 0.6362 - val_loss: 0.7419 - val_accuracy: 0.7000\n",
      "Epoch 2/30\n",
      "426/426 [==============================] - 0s 240us/sample - loss: 0.7342 - accuracy: 0.6667 - val_loss: 0.8644 - val_accuracy: 0.5700\n",
      "Epoch 3/30\n",
      "426/426 [==============================] - 0s 119us/sample - loss: 0.7405 - accuracy: 0.6854 - val_loss: 1.1058 - val_accuracy: 0.5200\n",
      "Epoch 4/30\n",
      "426/426 [==============================] - 0s 250us/sample - loss: 0.7626 - accuracy: 0.6549 - val_loss: 0.8768 - val_accuracy: 0.5900\n",
      "Epoch 5/30\n",
      "426/426 [==============================] - 0s 149us/sample - loss: 0.7316 - accuracy: 0.6878 - val_loss: 0.9501 - val_accuracy: 0.5000\n",
      "Epoch 6/30\n",
      "426/426 [==============================] - 0s 132us/sample - loss: 0.7366 - accuracy: 0.6643 - val_loss: 0.9465 - val_accuracy: 0.5500\n",
      "Epoch 7/30\n",
      "426/426 [==============================] - 0s 168us/sample - loss: 0.7499 - accuracy: 0.6291 - val_loss: 0.9749 - val_accuracy: 0.5600\n",
      "Epoch 8/30\n",
      "426/426 [==============================] - 0s 197us/sample - loss: 0.7218 - accuracy: 0.6667 - val_loss: 0.7969 - val_accuracy: 0.6300\n",
      "Epoch 9/30\n",
      "426/426 [==============================] - 0s 150us/sample - loss: 0.7324 - accuracy: 0.6808 - val_loss: 0.8925 - val_accuracy: 0.6100\n",
      "Epoch 10/30\n",
      "426/426 [==============================] - 0s 304us/sample - loss: 0.7245 - accuracy: 0.6526 - val_loss: 0.7634 - val_accuracy: 0.6500\n",
      "Epoch 11/30\n",
      "426/426 [==============================] - 0s 180us/sample - loss: 0.7295 - accuracy: 0.6643 - val_loss: 0.9508 - val_accuracy: 0.5700\n",
      "Epoch 12/30\n",
      "426/426 [==============================] - 0s 308us/sample - loss: 0.7295 - accuracy: 0.6690 - val_loss: 1.0104 - val_accuracy: 0.5500\n",
      "Epoch 13/30\n",
      "426/426 [==============================] - 0s 152us/sample - loss: 0.7390 - accuracy: 0.6620 - val_loss: 0.8464 - val_accuracy: 0.5900\n",
      "Epoch 14/30\n",
      "426/426 [==============================] - 0s 168us/sample - loss: 0.7316 - accuracy: 0.6620 - val_loss: 0.7944 - val_accuracy: 0.6300\n",
      "Epoch 15/30\n",
      "426/426 [==============================] - 0s 343us/sample - loss: 0.7539 - accuracy: 0.6643 - val_loss: 0.9785 - val_accuracy: 0.5400\n",
      "Epoch 16/30\n",
      "426/426 [==============================] - 0s 177us/sample - loss: 0.7289 - accuracy: 0.6737 - val_loss: 0.9877 - val_accuracy: 0.5600\n",
      "Epoch 17/30\n",
      "426/426 [==============================] - 0s 145us/sample - loss: 0.7426 - accuracy: 0.6737 - val_loss: 0.7751 - val_accuracy: 0.6900\n",
      "Epoch 18/30\n",
      "426/426 [==============================] - 0s 312us/sample - loss: 0.7254 - accuracy: 0.6737 - val_loss: 0.8079 - val_accuracy: 0.6900\n",
      "Epoch 19/30\n",
      "426/426 [==============================] - 0s 313us/sample - loss: 0.7220 - accuracy: 0.6761 - val_loss: 0.7764 - val_accuracy: 0.6900\n",
      "Epoch 20/30\n",
      "426/426 [==============================] - 0s 218us/sample - loss: 0.7463 - accuracy: 0.6596 - val_loss: 0.8263 - val_accuracy: 0.6600\n",
      "Epoch 21/30\n",
      "426/426 [==============================] - 0s 191us/sample - loss: 0.7265 - accuracy: 0.6596 - val_loss: 0.7828 - val_accuracy: 0.7100\n",
      "Epoch 22/30\n",
      "426/426 [==============================] - 0s 195us/sample - loss: 0.7440 - accuracy: 0.6362 - val_loss: 0.8082 - val_accuracy: 0.6900\n",
      "Epoch 23/30\n",
      "426/426 [==============================] - 0s 278us/sample - loss: 0.7585 - accuracy: 0.6455 - val_loss: 0.8707 - val_accuracy: 0.6000\n",
      "Epoch 24/30\n",
      "426/426 [==============================] - 0s 193us/sample - loss: 0.7374 - accuracy: 0.6784 - val_loss: 0.9030 - val_accuracy: 0.5800\n",
      "Epoch 25/30\n",
      "426/426 [==============================] - 0s 219us/sample - loss: 0.7252 - accuracy: 0.6526 - val_loss: 0.8479 - val_accuracy: 0.6200\n",
      "Epoch 26/30\n",
      "426/426 [==============================] - 0s 174us/sample - loss: 0.7317 - accuracy: 0.6643 - val_loss: 1.1089 - val_accuracy: 0.5700\n",
      "Epoch 27/30\n",
      "426/426 [==============================] - 0s 135us/sample - loss: 0.7301 - accuracy: 0.6549 - val_loss: 0.7940 - val_accuracy: 0.6700\n",
      "Epoch 28/30\n",
      "426/426 [==============================] - 0s 751us/sample - loss: 0.7282 - accuracy: 0.6643 - val_loss: 1.0249 - val_accuracy: 0.5500\n",
      "Epoch 29/30\n",
      "426/426 [==============================] - 0s 194us/sample - loss: 0.7410 - accuracy: 0.6338 - val_loss: 0.9207 - val_accuracy: 0.5400\n",
      "Epoch 30/30\n",
      "426/426 [==============================] - 0s 313us/sample - loss: 0.7287 - accuracy: 0.6596 - val_loss: 1.0302 - val_accuracy: 0.5300\n"
     ]
    }
   ],
   "source": [
    "model_history = model.fit(X_train, y_train, epochs = 30,\n",
    "                          validation_data = (X_valid, y_valid))"
   ]
  },
  {
   "cell_type": "code",
   "execution_count": 82,
   "metadata": {},
   "outputs": [
    {
     "data": {
      "image/png": "[encoded data removed]",
      "text/plain": [
       "<Figure size 576x360 with 1 Axes>"
      ]
     },
     "metadata": {
      "needs_background": "light"
     },
     "output_type": "display_data"
    }
   ],
   "source": [
    "pd.DataFrame(model_history.history).plot(figsize=(8,5))\n",
    "plt.grid(True)\n",
    "plt.gca().set_ylim(0,1)\n",
    "plt.show()"
   ]
  },
  {
   "cell_type": "code",
   "execution_count": 85,
   "metadata": {},
   "outputs": [
    {
     "name": "stderr",
     "output_type": "stream",
     "text": [
      "W0530 00:29:33.221372 4670432704 training.py:504] Falling back from v2 loop because of error: Failed to find data adapter that can handle input: <class 'pandas.core.frame.DataFrame'>, <class 'NoneType'>\n"
     ]
    },
    {
     "name": "stdout",
     "output_type": "stream",
     "text": [
      "132/132 [==============================] - 0s 86us/sample - loss: 1.7764 - accuracy: 0.4242\n"
     ]
    },
    {
     "data": {
      "text/plain": [
       "[1.776368347081271, 0.42424244]"
      ]
     },
     "execution_count": 85,
     "metadata": {},
     "output_type": "execute_result"
    }
   ],
   "source": [
    "model.evaluate(X_test, y_test)"
   ]
  },
  {
   "cell_type": "code",
   "execution_count": 86,
   "metadata": {},
   "outputs": [
    {
     "name": "stdout",
     "output_type": "stream",
     "text": [
      "DecisionTree : 0.7929614610987591\n",
      "accuracy score : 0.5075757575757576\n",
      "Linear Regression : 0.7431336167873736\n"
     ]
    },
    {
     "ename": "ValueError",
     "evalue": "Classification metrics can't handle a mix of multiclass and continuous targets",
     "output_type": "error",
     "traceback": [
      "\u001b[0;31m---------------------------------------------------------------------------\u001b[0m",
      "\u001b[0;31mValueError\u001b[0m                                Traceback (most recent call last)",
      "\u001b[0;32m<ipython-input-86-660b3563647f>\u001b[0m in \u001b[0;36m<module>\u001b[0;34m\u001b[0m\n\u001b[1;32m      9\u001b[0m     \u001b[0mmodeldic\u001b[0m\u001b[0;34m[\u001b[0m\u001b[0mnp\u001b[0m\u001b[0;34m.\u001b[0m\u001b[0msqrt\u001b[0m\u001b[0;34m(\u001b[0m\u001b[0mmean_squared_error\u001b[0m\u001b[0;34m(\u001b[0m\u001b[0my_test\u001b[0m\u001b[0;34m,\u001b[0m \u001b[0mpredictions\u001b[0m\u001b[0;34m)\u001b[0m\u001b[0;34m)\u001b[0m\u001b[0;34m]\u001b[0m \u001b[0;34m=\u001b[0m \u001b[0mname\u001b[0m\u001b[0;34m\u001b[0m\u001b[0;34m\u001b[0m\u001b[0m\n\u001b[1;32m     10\u001b[0m     \u001b[0mprint\u001b[0m\u001b[0;34m(\u001b[0m\u001b[0mname\u001b[0m\u001b[0;34m,\u001b[0m \u001b[0;34m(\u001b[0m\u001b[0mnp\u001b[0m\u001b[0;34m.\u001b[0m\u001b[0msqrt\u001b[0m\u001b[0;34m(\u001b[0m\u001b[0mmean_squared_error\u001b[0m\u001b[0;34m(\u001b[0m\u001b[0my_test\u001b[0m\u001b[0;34m,\u001b[0m \u001b[0mpredictions\u001b[0m\u001b[0;34m)\u001b[0m\u001b[0;34m)\u001b[0m\u001b[0;34m)\u001b[0m\u001b[0;34m)\u001b[0m\u001b[0;34m\u001b[0m\u001b[0;34m\u001b[0m\u001b[0m\n\u001b[0;32m---> 11\u001b[0;31m     \u001b[0mprint\u001b[0m\u001b[0;34m(\u001b[0m\u001b[0;34mf\"accuracy score : {accuracy_score(y_test, predictions)}\"\u001b[0m\u001b[0;34m)\u001b[0m\u001b[0;34m\u001b[0m\u001b[0;34m\u001b[0m\u001b[0m\n\u001b[0m\u001b[1;32m     12\u001b[0m \u001b[0mprint\u001b[0m\u001b[0;34m(\u001b[0m\u001b[0;34mf\"\\nBest Prefroming model: {modeldic[min(modeldic)]}\"\u001b[0m\u001b[0;34m)\u001b[0m\u001b[0;34m\u001b[0m\u001b[0;34m\u001b[0m\u001b[0m\n",
      "\u001b[0;32m~/anaconda3/lib/python3.7/site-packages/sklearn/metrics/classification.py\u001b[0m in \u001b[0;36maccuracy_score\u001b[0;34m(y_true, y_pred, normalize, sample_weight)\u001b[0m\n\u001b[1;32m    174\u001b[0m \u001b[0;34m\u001b[0m\u001b[0m\n\u001b[1;32m    175\u001b[0m     \u001b[0;31m# Compute accuracy for each possible representation\u001b[0m\u001b[0;34m\u001b[0m\u001b[0;34m\u001b[0m\u001b[0;34m\u001b[0m\u001b[0m\n\u001b[0;32m--> 176\u001b[0;31m     \u001b[0my_type\u001b[0m\u001b[0;34m,\u001b[0m \u001b[0my_true\u001b[0m\u001b[0;34m,\u001b[0m \u001b[0my_pred\u001b[0m \u001b[0;34m=\u001b[0m \u001b[0m_check_targets\u001b[0m\u001b[0;34m(\u001b[0m\u001b[0my_true\u001b[0m\u001b[0;34m,\u001b[0m \u001b[0my_pred\u001b[0m\u001b[0;34m)\u001b[0m\u001b[0;34m\u001b[0m\u001b[0;34m\u001b[0m\u001b[0m\n\u001b[0m\u001b[1;32m    177\u001b[0m     \u001b[0mcheck_consistent_length\u001b[0m\u001b[0;34m(\u001b[0m\u001b[0my_true\u001b[0m\u001b[0;34m,\u001b[0m \u001b[0my_pred\u001b[0m\u001b[0;34m,\u001b[0m \u001b[0msample_weight\u001b[0m\u001b[0;34m)\u001b[0m\u001b[0;34m\u001b[0m\u001b[0;34m\u001b[0m\u001b[0m\n\u001b[1;32m    178\u001b[0m     \u001b[0;32mif\u001b[0m \u001b[0my_type\u001b[0m\u001b[0;34m.\u001b[0m\u001b[0mstartswith\u001b[0m\u001b[0;34m(\u001b[0m\u001b[0;34m'multilabel'\u001b[0m\u001b[0;34m)\u001b[0m\u001b[0;34m:\u001b[0m\u001b[0;34m\u001b[0m\u001b[0;34m\u001b[0m\u001b[0m\n",
      "\u001b[0;32m~/anaconda3/lib/python3.7/site-packages/sklearn/metrics/classification.py\u001b[0m in \u001b[0;36m_check_targets\u001b[0;34m(y_true, y_pred)\u001b[0m\n\u001b[1;32m     79\u001b[0m     \u001b[0;32mif\u001b[0m \u001b[0mlen\u001b[0m\u001b[0;34m(\u001b[0m\u001b[0my_type\u001b[0m\u001b[0;34m)\u001b[0m \u001b[0;34m>\u001b[0m \u001b[0;36m1\u001b[0m\u001b[0;34m:\u001b[0m\u001b[0;34m\u001b[0m\u001b[0;34m\u001b[0m\u001b[0m\n\u001b[1;32m     80\u001b[0m         raise ValueError(\"Classification metrics can't handle a mix of {0} \"\n\u001b[0;32m---> 81\u001b[0;31m                          \"and {1} targets\".format(type_true, type_pred))\n\u001b[0m\u001b[1;32m     82\u001b[0m \u001b[0;34m\u001b[0m\u001b[0m\n\u001b[1;32m     83\u001b[0m     \u001b[0;31m# We can't have more than one value on y_type => The set is no more needed\u001b[0m\u001b[0;34m\u001b[0m\u001b[0;34m\u001b[0m\u001b[0;34m\u001b[0m\u001b[0m\n",
      "\u001b[0;31mValueError\u001b[0m: Classification metrics can't handle a mix of multiclass and continuous targets"
     ]
    }
   ],
   "source": [
    "\n",
    "\n",
    "\n",
    "modeldic = {}\n",
    "for name,model in models:\n",
    "    model = model\n",
    "    model.fit(X_train, y_train)\n",
    "    predictions = model.predict(X_test)\n",
    "    modeldic[np.sqrt(mean_squared_error(y_test, predictions))] = name\n",
    "    print(name, (np.sqrt(mean_squared_error(y_test, predictions))))\n",
    "    print(f\"accuracy score : {accuracy_score(y_test, predictions)}\")\n",
    "print(f\"\\nBest Prefroming model: {modeldic[min(modeldic)]}\")"
   ]
  },
  {
   "cell_type": "code",
   "execution_count": 25,
   "metadata": {},
   "outputs": [],
   "source": [
    "data[\"Survey Sample (N)\"] = data[\"Survey Sample (N)\"].str.replace(',', '')"
   ]
  },
  {
   "cell_type": "code",
   "execution_count": 42,
   "metadata": {},
   "outputs": [
    {
     "data": {
      "text/plain": [
       "724    0\n",
       "725    0\n",
       "726    2\n",
       "729    2\n",
       "730    2\n",
       "      ..\n",
       "919    1\n",
       "920    1\n",
       "921    1\n",
       "922    1\n",
       "923    1\n",
       "Name: Income Classification, Length: 132, dtype: int64"
      ]
     },
     "execution_count": 42,
     "metadata": {},
     "output_type": "execute_result"
    }
   ],
   "source": [
    "y_test"
   ]
  },
  {
   "cell_type": "code",
   "execution_count": null,
   "metadata": {},
   "outputs": [],
   "source": []
  }
 ],
 "metadata": {
  "kernelspec": {
   "display_name": "Python 3",
   "language": "python",
   "name": "python3"
  },
  "language_info": {
   "codemirror_mode": {
    "name": "ipython",
    "version": 3
   },
   "file_extension": ".py",
   "mimetype": "text/x-python",
   "name": "python",
   "nbconvert_exporter": "python",
   "pygments_lexer": "ipython3",
   "version": "3.7.3"
  }
 },
 "nbformat": 4,
 "nbformat_minor": 2
}
